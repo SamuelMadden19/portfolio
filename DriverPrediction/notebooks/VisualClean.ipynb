{
 "cells": [
  {
   "cell_type": "markdown",
   "metadata": {},
   "source": [
    "# Porto Serguo Safe Driver Prediction\n",
    "\n",
    ">Project lead: Samuel Madden</br>\n",
    "Project Contributors: Charles Frank, Ryan Hartford\n",
    "\n",
    ">Notebook created by: Samuel Madden</br>\n",
    "Notebook created on: 08/19/19"
   ]
  },
  {
   "cell_type": "markdown",
   "metadata": {},
   "source": [
    "## Summary\n",
    "Inaccuracies in car insurance company’s claim predictions raise the cost of insurance for good drivers and reduce the price for bad ones.\n",
    "\n",
    "Build a model that predicts the probability that a driver will initiate an auto insurance claim in the next year.\n",
    "\n",
    "#### Data Description\n",
    "\n",
    "In this competition, you will predict the probability that an auto insurance policy holder files a claim.\n",
    "\n",
    "In the train and test data, features that belong to similar groupings are tagged as such in the feature names (e.g., ind, reg, car, calc). In addition, feature names include the postfix bin to indicate binary features and cat to indicate categorical features. Features without these designations are either continuous or ordinal. <a id=\"given\">Values of -1 indicate that the feature was missing from the observation.</a> The target columns signifies whether or not a claim was filed for that policy holder.\n",
    "\n",
    "#### File descriptions\n",
    "\n",
    "train.csv contains the training data, where each row corresponds to a policy holder, and the target columns signifies that a claim was filed.\n",
    "test.csv contains the test data."
   ]
  },
  {
   "cell_type": "markdown",
   "metadata": {},
   "source": [
    "## Contents\n",
    "1. [Cleaning & Visualization](#cv)</br>\n",
    "    1.1 [NoteBook Setup](#lib)</br>\n",
    "    1.2 [AWS Communication](#aws)</br>\n",
    "    1.3 [Visualize with MissingNo](#msno)</br>\n",
    "    1.4 [Mean Imputation](#mean)</br>\n",
    "    1.5 [Visualizing Bias](#bias)</br>\n",
    "    1.5 [Scaling](#scale)\n",
    "    "
   ]
  },
  {
   "cell_type": "markdown",
   "metadata": {},
   "source": [
    "<a id=\"cv\"></a>\n",
    "## 1. &nbsp; Cleaning & Visualization"
   ]
  },
  {
   "cell_type": "markdown",
   "metadata": {},
   "source": [
    "<a id=\"cv\"></a>\n",
    "### 1.1 &nbsp;Notebook Setup\n",
    "\n",
    "Libraries and Version Numbers"
   ]
  },
  {
   "cell_type": "code",
   "execution_count": 1,
   "metadata": {},
   "outputs": [
    {
     "name": "stdout",
     "output_type": "stream",
     "text": [
      "Collecting missingno\n",
      "  Downloading https://files.pythonhosted.org/packages/2b/de/6e4dd6d720c49939544352155dc06a08c9f7e4271aa631a559dfbeaaf9d4/missingno-0.4.2-py3-none-any.whl\n",
      "Requirement already satisfied: matplotlib in /home/ec2-user/anaconda3/envs/python3/lib/python3.6/site-packages (from missingno) (3.0.3)\n",
      "Requirement already satisfied: numpy in /home/ec2-user/anaconda3/envs/python3/lib/python3.6/site-packages (from missingno) (1.14.3)\n",
      "Requirement already satisfied: scipy in /home/ec2-user/anaconda3/envs/python3/lib/python3.6/site-packages (from missingno) (1.1.0)\n",
      "Requirement already satisfied: seaborn in /home/ec2-user/anaconda3/envs/python3/lib/python3.6/site-packages (from missingno) (0.8.1)\n",
      "Requirement already satisfied: kiwisolver>=1.0.1 in /home/ec2-user/anaconda3/envs/python3/lib/python3.6/site-packages (from matplotlib->missingno) (1.0.1)\n",
      "Requirement already satisfied: python-dateutil>=2.1 in /home/ec2-user/anaconda3/envs/python3/lib/python3.6/site-packages (from matplotlib->missingno) (2.7.3)\n",
      "Requirement already satisfied: pyparsing!=2.0.4,!=2.1.2,!=2.1.6,>=2.0.1 in /home/ec2-user/anaconda3/envs/python3/lib/python3.6/site-packages (from matplotlib->missingno) (2.2.0)\n",
      "Requirement already satisfied: cycler>=0.10 in /home/ec2-user/anaconda3/envs/python3/lib/python3.6/site-packages (from matplotlib->missingno) (0.10.0)\n",
      "Requirement already satisfied: pandas in /home/ec2-user/anaconda3/envs/python3/lib/python3.6/site-packages (from seaborn->missingno) (0.24.2)\n",
      "Requirement already satisfied: setuptools in /home/ec2-user/anaconda3/envs/python3/lib/python3.6/site-packages (from kiwisolver>=1.0.1->matplotlib->missingno) (39.1.0)\n",
      "Requirement already satisfied: six>=1.5 in /home/ec2-user/anaconda3/envs/python3/lib/python3.6/site-packages (from python-dateutil>=2.1->matplotlib->missingno) (1.11.0)\n",
      "Requirement already satisfied: pytz>=2011k in /home/ec2-user/anaconda3/envs/python3/lib/python3.6/site-packages (from pandas->seaborn->missingno) (2018.4)\n",
      "Installing collected packages: missingno\n",
      "Successfully installed missingno-0.4.2\n",
      "\u001b[33mYou are using pip version 10.0.1, however version 19.3.1 is available.\n",
      "You should consider upgrading via the 'pip install --upgrade pip' command.\u001b[0m\n"
     ]
    }
   ],
   "source": [
    "# Comment out any packages that arent installed\n",
    "!pip install missingno"
   ]
  },
  {
   "cell_type": "code",
   "execution_count": 2,
   "metadata": {},
   "outputs": [
    {
     "name": "stdout",
     "output_type": "stream",
     "text": [
      "Python Version: 3.6.5 |Anaconda, Inc.| (default, Apr 29 2018, 16:14:56) \n",
      "[GCC 7.2.0]\n",
      "Pandas Version: 0.24.2\n"
     ]
    }
   ],
   "source": [
    "import sys\n",
    "import json\n",
    "import pandas as pd\n",
    "import numpy as np\n",
    "import matplotlib.pyplot as plt\n",
    "import missingno as msno\n",
    "\n",
    "# AWS support\n",
    "import boto3\n",
    "from sagemaker import get_execution_role\n",
    "\n",
    "# magic commands\n",
    "% matplotlib inline\n",
    "\n",
    "print(\"Python Version: \" + sys.version)\n",
    "print(\"Pandas Version: \" + pd.__version__)"
   ]
  },
  {
   "cell_type": "markdown",
   "metadata": {},
   "source": [
    "### 1.2 &nbsp; AWS Communication\n",
    "\n",
    "Permissions and Environment Variables\n",
    "\n",
    "Settup and link AWS services IAM and S3\n",
    "> Both train.csv and test.csv for the Porto Sergous Safe Driver Prediction dataset have been previously uploaded to an S3 bucket\n",
    "<a href=\"https://www.kaggle.com/c/porto-seguro-safe-driver-prediction/rules\">source linked here</a>"
   ]
  },
  {
   "cell_type": "code",
   "execution_count": 3,
   "metadata": {},
   "outputs": [],
   "source": [
    "role = get_execution_role()\n",
    "bucket ='sagemaker-studio-thaaoml7ipn'"
   ]
  },
  {
   "cell_type": "code",
   "execution_count": 4,
   "metadata": {},
   "outputs": [],
   "source": [
    "# load in data from S3 bucket\n",
    "data_key_train = 'data_SafeDriverPrediction/train.csv'\n",
    "data_location_train = 's3://{}/{}'.format(bucket, data_key_train)\n",
    "train = pd.read_csv(data_location_train)\n",
    "\n",
    "data_key_test = 'data_SafeDriverPrediction/test.csv'\n",
    "data_location_test = 's3://{}/{}'.format(bucket, data_key_test)\n",
    "test = pd.read_csv(data_location_test)\n",
    "\n",
    "# View summary and number of NULL columns\n",
    "# View column_names, column_datatypes and column_noo (Number Of Observations) "
   ]
  },
  {
   "cell_type": "markdown",
   "metadata": {},
   "source": [
    "<a id=\"msno\"></a>\n",
    "### 1.3 &nbsp; Visualize with MissingNo"
   ]
  },
  {
   "cell_type": "markdown",
   "metadata": {},
   "source": [
    "> No instance of null values</br>\n",
    "[Values of -1 indicate that the feature was missing from the observation](#given)"
   ]
  },
  {
   "cell_type": "code",
   "execution_count": 5,
   "metadata": {},
   "outputs": [
    {
     "name": "stdout",
     "output_type": "stream",
     "text": [
      "<class 'pandas.core.frame.DataFrame'>\n",
      "RangeIndex: 595212 entries, 0 to 595211\n",
      "Data columns (total 59 columns):\n",
      "id                595212 non-null int64\n",
      "target            595212 non-null int64\n",
      "ps_ind_01         595212 non-null int64\n",
      "ps_ind_02_cat     594996 non-null float64\n",
      "ps_ind_03         595212 non-null int64\n",
      "ps_ind_04_cat     595129 non-null float64\n",
      "ps_ind_05_cat     589403 non-null float64\n",
      "ps_ind_06_bin     595212 non-null int64\n",
      "ps_ind_07_bin     595212 non-null int64\n",
      "ps_ind_08_bin     595212 non-null int64\n",
      "ps_ind_09_bin     595212 non-null int64\n",
      "ps_ind_10_bin     595212 non-null int64\n",
      "ps_ind_11_bin     595212 non-null int64\n",
      "ps_ind_12_bin     595212 non-null int64\n",
      "ps_ind_13_bin     595212 non-null int64\n",
      "ps_ind_14         595212 non-null int64\n",
      "ps_ind_15         595212 non-null int64\n",
      "ps_ind_16_bin     595212 non-null int64\n",
      "ps_ind_17_bin     595212 non-null int64\n",
      "ps_ind_18_bin     595212 non-null int64\n",
      "ps_reg_01         595212 non-null float64\n",
      "ps_reg_02         595212 non-null float64\n",
      "ps_reg_03         487440 non-null float64\n",
      "ps_car_01_cat     595105 non-null float64\n",
      "ps_car_02_cat     595207 non-null float64\n",
      "ps_car_03_cat     183981 non-null float64\n",
      "ps_car_04_cat     595212 non-null int64\n",
      "ps_car_05_cat     328661 non-null float64\n",
      "ps_car_06_cat     595212 non-null int64\n",
      "ps_car_07_cat     583723 non-null float64\n",
      "ps_car_08_cat     595212 non-null int64\n",
      "ps_car_09_cat     594643 non-null float64\n",
      "ps_car_10_cat     595212 non-null int64\n",
      "ps_car_11_cat     595212 non-null int64\n",
      "ps_car_11         595207 non-null float64\n",
      "ps_car_12         595211 non-null float64\n",
      "ps_car_13         595212 non-null float64\n",
      "ps_car_14         552592 non-null float64\n",
      "ps_car_15         595212 non-null float64\n",
      "ps_calc_01        595212 non-null float64\n",
      "ps_calc_02        595212 non-null float64\n",
      "ps_calc_03        595212 non-null float64\n",
      "ps_calc_04        595212 non-null int64\n",
      "ps_calc_05        595212 non-null int64\n",
      "ps_calc_06        595212 non-null int64\n",
      "ps_calc_07        595212 non-null int64\n",
      "ps_calc_08        595212 non-null int64\n",
      "ps_calc_09        595212 non-null int64\n",
      "ps_calc_10        595212 non-null int64\n",
      "ps_calc_11        595212 non-null int64\n",
      "ps_calc_12        595212 non-null int64\n",
      "ps_calc_13        595212 non-null int64\n",
      "ps_calc_14        595212 non-null int64\n",
      "ps_calc_15_bin    595212 non-null int64\n",
      "ps_calc_16_bin    595212 non-null int64\n",
      "ps_calc_17_bin    595212 non-null int64\n",
      "ps_calc_18_bin    595212 non-null int64\n",
      "ps_calc_19_bin    595212 non-null int64\n",
      "ps_calc_20_bin    595212 non-null int64\n",
      "dtypes: float64(20), int64(39)\n",
      "memory usage: 267.9 MB\n"
     ]
    }
   ],
   "source": [
    "# Create working copies of train and test data, in the instance that an orginal is needed\n",
    "# Documentation of dataset(located 1.1) observes all NaN entries are input as -1\n",
    "train_df = train.replace(-1, np.NaN)\n",
    "test_df = test.replace(-1, np.NaN)\n",
    "\n",
    "train_df.info()"
   ]
  },
  {
   "cell_type": "markdown",
   "metadata": {},
   "source": [
    " >Missing values become apparent: instances less than 595212 </br>\n",
    " Notable: ps_reg_03, ps_car_03_cat, ps_car_05_cat"
   ]
  },
  {
   "cell_type": "markdown",
   "metadata": {},
   "source": [
    ">Highlight missing values by column"
   ]
  },
  {
   "cell_type": "code",
   "execution_count": 6,
   "metadata": {},
   "outputs": [
    {
     "data": {
      "image/png": "[encoded data removed]",
      "text/plain": [
       "<Figure size 1440x1008 with 2 Axes>"
      ]
     },
     "metadata": {},
     "output_type": "display_data"
    }
   ],
   "source": [
    "# remember number of instances(observations) in the partitioned data\n",
    "num_rows_train = train_df.shape[0]\n",
    "\n",
    "num_rows_test = test_df.shape[0]\n",
    "\n",
    "msno.matrix(df=train_df.iloc[:,2:39], figsize=(20, 14), color=(0.42, 0.1, 0.05))\n",
    "plt.show()\n",
    "#\n",
    "#msno.matrix(df=test_df.iloc[:,2:38], figsize=(20, 14), color=(0.42, 0.1, 0.05))\n",
    "#plt.show()"
   ]
  },
  {
   "cell_type": "markdown",
   "metadata": {},
   "source": [
    ">Drop columns: ps_reg_03, ps_car_03_cat, ps_car_05_cat"
   ]
  },
  {
   "cell_type": "code",
   "execution_count": 8,
   "metadata": {},
   "outputs": [],
   "source": [
    "train_df = train_df.drop(['ps_reg_03', 'ps_car_03_cat', 'ps_car_05_cat'], axis=1)\n",
    "test_df = test_df.drop(['ps_reg_03', 'ps_car_03_cat', 'ps_car_05_cat'], axis=1)"
   ]
  },
  {
   "cell_type": "markdown",
   "metadata": {},
   "source": [
    "<a id=\"mean\"></a>\n",
    "### 1.4 &nbsp; Mean Imputation\n",
    "Replace remaining missing values with mean of respective column"
   ]
  },
  {
   "cell_type": "code",
   "execution_count": 9,
   "metadata": {},
   "outputs": [],
   "source": [
    "from sklearn.impute import SimpleImputer "
   ]
  },
  {
   "cell_type": "markdown",
   "metadata": {},
   "source": [
    ">save column labels in string array"
   ]
  },
  {
   "cell_type": "code",
   "execution_count": 10,
   "metadata": {},
   "outputs": [],
   "source": [
    "# store names of columns as list for ease of use\n",
    "col_names_train = list(train_df.columns.values)\n",
    "col_names_test = list(test_df.columns.values)"
   ]
  },
  {
   "cell_type": "code",
   "execution_count": 11,
   "metadata": {},
   "outputs": [],
   "source": [
    "imr = SimpleImputer(missing_values=np.nan, strategy='mean')\n",
    "# training set\n",
    "imr_train = imr.fit(train_df)\n",
    "imputed_trainset = imr.transform(train_df.values)\n",
    "# test set\n",
    "imr_test = imr.fit(test_df)\n",
    "imputed_testset = imr_test.transform(test_df.values)"
   ]
  },
  {
   "cell_type": "markdown",
   "metadata": {},
   "source": [
    ">convert current ndarray to dataFrame"
   ]
  },
  {
   "cell_type": "code",
   "execution_count": 12,
   "metadata": {},
   "outputs": [
    {
     "name": "stdout",
     "output_type": "stream",
     "text": [
      "<class 'pandas.core.frame.DataFrame'>\n",
      "RangeIndex: 595212 entries, 0 to 595211\n",
      "Data columns (total 56 columns):\n",
      "id                595212 non-null float64\n",
      "target            595212 non-null float64\n",
      "ps_ind_01         595212 non-null float64\n",
      "ps_ind_02_cat     595212 non-null float64\n",
      "ps_ind_03         595212 non-null float64\n",
      "ps_ind_04_cat     595212 non-null float64\n",
      "ps_ind_05_cat     595212 non-null float64\n",
      "ps_ind_06_bin     595212 non-null float64\n",
      "ps_ind_07_bin     595212 non-null float64\n",
      "ps_ind_08_bin     595212 non-null float64\n",
      "ps_ind_09_bin     595212 non-null float64\n",
      "ps_ind_10_bin     595212 non-null float64\n",
      "ps_ind_11_bin     595212 non-null float64\n",
      "ps_ind_12_bin     595212 non-null float64\n",
      "ps_ind_13_bin     595212 non-null float64\n",
      "ps_ind_14         595212 non-null float64\n",
      "ps_ind_15         595212 non-null float64\n",
      "ps_ind_16_bin     595212 non-null float64\n",
      "ps_ind_17_bin     595212 non-null float64\n",
      "ps_ind_18_bin     595212 non-null float64\n",
      "ps_reg_01         595212 non-null float64\n",
      "ps_reg_02         595212 non-null float64\n",
      "ps_car_01_cat     595212 non-null float64\n",
      "ps_car_02_cat     595212 non-null float64\n",
      "ps_car_04_cat     595212 non-null float64\n",
      "ps_car_06_cat     595212 non-null float64\n",
      "ps_car_07_cat     595212 non-null float64\n",
      "ps_car_08_cat     595212 non-null float64\n",
      "ps_car_09_cat     595212 non-null float64\n",
      "ps_car_10_cat     595212 non-null float64\n",
      "ps_car_11_cat     595212 non-null float64\n",
      "ps_car_11         595212 non-null float64\n",
      "ps_car_12         595212 non-null float64\n",
      "ps_car_13         595212 non-null float64\n",
      "ps_car_14         595212 non-null float64\n",
      "ps_car_15         595212 non-null float64\n",
      "ps_calc_01        595212 non-null float64\n",
      "ps_calc_02        595212 non-null float64\n",
      "ps_calc_03        595212 non-null float64\n",
      "ps_calc_04        595212 non-null float64\n",
      "ps_calc_05        595212 non-null float64\n",
      "ps_calc_06        595212 non-null float64\n",
      "ps_calc_07        595212 non-null float64\n",
      "ps_calc_08        595212 non-null float64\n",
      "ps_calc_09        595212 non-null float64\n",
      "ps_calc_10        595212 non-null float64\n",
      "ps_calc_11        595212 non-null float64\n",
      "ps_calc_12        595212 non-null float64\n",
      "ps_calc_13        595212 non-null float64\n",
      "ps_calc_14        595212 non-null float64\n",
      "ps_calc_15_bin    595212 non-null float64\n",
      "ps_calc_16_bin    595212 non-null float64\n",
      "ps_calc_17_bin    595212 non-null float64\n",
      "ps_calc_18_bin    595212 non-null float64\n",
      "ps_calc_19_bin    595212 non-null float64\n",
      "ps_calc_20_bin    595212 non-null float64\n",
      "dtypes: float64(56)\n",
      "memory usage: 254.3 MB\n"
     ]
    }
   ],
   "source": [
    "cleaned_train = pd.DataFrame(imputed_trainset, columns=col_names_train)\n",
    "cleaned_train.info()\n",
    "\n",
    "cleaned_test = pd.DataFrame(imputed_testset, columns=col_names_test)\n",
    "# cleaned_test.info()"
   ]
  },
  {
   "cell_type": "code",
   "execution_count": 1,
   "metadata": {},
   "outputs": [
    {
     "ename": "NameError",
     "evalue": "name 'msno' is not defined",
     "output_type": "error",
     "traceback": [
      "\u001b[0;31m---------------------------------------------------------------------------\u001b[0m",
      "\u001b[0;31mNameError\u001b[0m                                 Traceback (most recent call last)",
      "\u001b[0;32m<ipython-input-1-098926749bf6>\u001b[0m in \u001b[0;36m<module>\u001b[0;34m()\u001b[0m\n\u001b[0;32m----> 1\u001b[0;31m \u001b[0mmsno\u001b[0m\u001b[0;34m.\u001b[0m\u001b[0mmatrix\u001b[0m\u001b[0;34m(\u001b[0m\u001b[0mdf\u001b[0m\u001b[0;34m=\u001b[0m\u001b[0mcleaned_train\u001b[0m\u001b[0;34m.\u001b[0m\u001b[0miloc\u001b[0m\u001b[0;34m[\u001b[0m\u001b[0;34m:\u001b[0m\u001b[0;34m,\u001b[0m\u001b[0;36m2\u001b[0m\u001b[0;34m:\u001b[0m\u001b[0;36m39\u001b[0m\u001b[0;34m]\u001b[0m\u001b[0;34m,\u001b[0m \u001b[0mfigsize\u001b[0m\u001b[0;34m=\u001b[0m\u001b[0;34m(\u001b[0m\u001b[0;36m20\u001b[0m\u001b[0;34m,\u001b[0m \u001b[0;36m14\u001b[0m\u001b[0;34m)\u001b[0m\u001b[0;34m,\u001b[0m \u001b[0mcolor\u001b[0m\u001b[0;34m=\u001b[0m\u001b[0;34m(\u001b[0m\u001b[0;36m0.42\u001b[0m\u001b[0;34m,\u001b[0m \u001b[0;36m0.1\u001b[0m\u001b[0;34m,\u001b[0m \u001b[0;36m0.05\u001b[0m\u001b[0;34m)\u001b[0m\u001b[0;34m)\u001b[0m\u001b[0;34m\u001b[0m\u001b[0m\n\u001b[0m\u001b[1;32m      2\u001b[0m \u001b[0mplt\u001b[0m\u001b[0;34m.\u001b[0m\u001b[0mshow\u001b[0m\u001b[0;34m(\u001b[0m\u001b[0;34m)\u001b[0m\u001b[0;34m\u001b[0m\u001b[0m\n\u001b[1;32m      3\u001b[0m \u001b[0;31m#\u001b[0m\u001b[0;34m\u001b[0m\u001b[0;34m\u001b[0m\u001b[0m\n\u001b[1;32m      4\u001b[0m \u001b[0;31m# msno.matrix(df=cleaned_test.iloc[:,2:39], figsize=(20, 14), color=(0.42, 0.1, 0.05))\u001b[0m\u001b[0;34m\u001b[0m\u001b[0;34m\u001b[0m\u001b[0m\n\u001b[1;32m      5\u001b[0m \u001b[0;31m# plt.show()\u001b[0m\u001b[0;34m\u001b[0m\u001b[0;34m\u001b[0m\u001b[0m\n",
      "\u001b[0;31mNameError\u001b[0m: name 'msno' is not defined"
     ]
    }
   ],
   "source": [
    "# msno.matrix(df=cleaned_train.iloc[:,2:39], figsize=(20, 14), color=(0.42, 0.1, 0.05))\n",
    "# plt.show()\n",
    "#\n",
    "# msno.matrix(df=cleaned_test.iloc[:,2:39], figsize=(20, 14), color=(0.42, 0.1, 0.05))\n",
    "# plt.show()"
   ]
  },
  {
   "cell_type": "markdown",
   "metadata": {},
   "source": [
    ">Print cleaned training data to config path"
   ]
  },
  {
   "cell_type": "markdown",
   "metadata": {},
   "source": [
    "<a id=\"bias\"></a>\n",
    "### 1.5 &nbsp;Visualizing Bias"
   ]
  },
  {
   "cell_type": "code",
   "execution_count": null,
   "metadata": {},
   "outputs": [],
   "source": [
    "#!pip install imblearn\n",
    "#!pip install -U scikit-learn\n",
    "from imblearn.over_sampling import RandomOverSampler\n",
    "#from imblearn.under_sampling import RandomUnderSampler"
   ]
  },
  {
   "cell_type": "code",
   "execution_count": null,
   "metadata": {},
   "outputs": [],
   "source": [
    "import seaborn as sns\n",
    "\n",
    "plt.figure(figsize=(8, 8))\n",
    "sns.countplot(x='target',data = cleaned_train)\n",
    "plt.title(\"Balanced Classes\")\n",
    "plt.show()"
   ]
  },
  {
   "cell_type": "code",
   "execution_count": null,
   "metadata": {},
   "outputs": [],
   "source": [
    "pos_df = cleaned_train.loc[cleaned_train['target'] == 1.0,'target']\n",
    "neg_df = cleaned_train.loc[cleaned_train['target'] == 0.0,'target'].sample(n=pos_df.size,random_state=42)\n",
    "\n",
    "norm_df = pd.concat([pos_df,neg_df])\n",
    "# norm is returned as a Series"
   ]
  },
  {
   "cell_type": "code",
   "execution_count": null,
   "metadata": {},
   "outputs": [],
   "source": [
    "norm_df = pd.DataFrame(norm_df,columns = ['target'])\n",
    "# Transform norm into a df\n",
    "norm_df.info\n",
    "plt.figure(figsize=(8, 8))\n",
    "sns.countplot(x = 'target', data = norm_df)\n",
    "plt.title(\"Balanced Classes\")\n",
    "plt.show()\n",
    "#"
   ]
  },
  {
   "cell_type": "code",
   "execution_count": null,
   "metadata": {},
   "outputs": [],
   "source": []
  },
  {
   "cell_type": "code",
   "execution_count": null,
   "metadata": {},
   "outputs": [],
   "source": []
  },
  {
   "cell_type": "markdown",
   "metadata": {},
   "source": [
    "<a id=\"scale\"></a>\n",
    "### 1.6 &nbsp; Scaling Dataset"
   ]
  },
  {
   "cell_type": "markdown",
   "metadata": {},
   "source": [
    "Bringing features onto the same scale"
   ]
  },
  {
   "cell_type": "code",
   "execution_count": null,
   "metadata": {},
   "outputs": [],
   "source": [
    "#\n",
    "print(cleaned_train.head(n=10))\n",
    "print(cleaned_test.head(n=10))\n",
    "\n",
    "# Standardization\n",
    "# x_std = (xi - ux) / sx\n",
    "from sklearn.preprocessing import StandardScaler\n",
    "# store excluded columns\n",
    "col_id_target_train = cleaned_train[['id','target']] \n",
    "col_id_test = cleaned_test[['id']]\n",
    "#col_id_target = cleaned_train['id'] # Use with test\n",
    "\n",
    "# exclude columns = 'id', 'target' from StandardScaler\n",
    "X_train_puredata = cleaned_train.drop(['id','target'], axis=1) \n",
    "X_test_puredata = cleaned_test.drop(['id'], axis=1)\n",
    "\n",
    "stdsc = StandardScaler()\n",
    "# fit using training data\n",
    "X_train_std_num = stdsc.fit_transform(X_train_puredata)\n",
    "# use fit parameters to transform the test set\n",
    "X_test_std_num = stdsc.transform(X_test_puredata)\n",
    "# turn returned np.arrays back into DataFrame\n",
    "X_train_std = pd.DataFrame(X_train_std_num, columns=col_names_train[2:])\n",
    "X_test_std = pd.DataFrame(X_test_std_num, columns=col_names_test[1:])\n",
    "\n",
    "X_train_std = pd.concat([col_id_target_train['id'],X_train_std], axis=1)\n",
    "Y_train_std = col_id_target_train['target']\n",
    "X_test_std = pd.concat([col_id_test, X_test_std], axis=1)\n",
    "\n",
    "print(X_train_std.head(n=10))"
   ]
  },
  {
   "cell_type": "code",
   "execution_count": null,
   "metadata": {},
   "outputs": [],
   "source": []
  },
  {
   "cell_type": "code",
   "execution_count": null,
   "metadata": {},
   "outputs": [],
   "source": [
    "X_train_std.to_csv(\"../data\", na_rep=\"NaN\", index=False)\n",
    "#cleaned_train.to_csv(config[\"cleaned_test_filepath\"], na_rep=\"NaN\", index=False)\n",
    "Y_train_std.to_csv(\"../data\", na_rep=\"NaN\", index=False)\n",
    "X_test_std.to_csv(\"../data\", na_rep=\"NaN\", index=False)\n",
    "\n"
   ]
  },
  {
   "cell_type": "code",
   "execution_count": null,
   "metadata": {},
   "outputs": [],
   "source": []
  },
  {
   "cell_type": "code",
   "execution_count": null,
   "metadata": {},
   "outputs": [],
   "source": []
  }
 ],
 "metadata": {
  "kernelspec": {
   "display_name": "conda_python3",
   "language": "python",
   "name": "conda_python3"
  },
  "language_info": {
   "codemirror_mode": {
    "name": "ipython",
    "version": 3
   },
   "file_extension": ".py",
   "mimetype": "text/x-python",
   "name": "python",
   "nbconvert_exporter": "python",
   "pygments_lexer": "ipython3",
   "version": "3.6.5"
  }
 },
 "nbformat": 4,
 "nbformat_minor": 4
}
