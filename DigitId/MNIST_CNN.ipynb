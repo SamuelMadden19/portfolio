{
 "cells": [
  {
   "cell_type": "markdown",
   "metadata": {},
   "source": [
    "## MNIST Convolutional Neural Network Classifier With Keras\n",
    "> Created by: Samuel Madden\n",
    "\n",
    "> Created on: December 15, 2019\n",
    "> Last Updated : March 10, 2020"
   ]
  },
  {
   "cell_type": "markdown",
   "metadata": {},
   "source": [
    "## Summary <br>\n",
    "The MNIST database (Modified National Institute of Standards and Technology database) is a large database of handwritten digits that is commonly used for training various image processing systems. This is a well known database and is useful for general benchmarking of classification algorithms. A Convolutional Neural Network will be implemented with the architecture as such: Architexture:   Input -> [[Conv2D->ReLU]*2 -> MaxPool2D -> Dropout] * 2 -> Flatten -> Dense -> Dropout -> Output.<br>\n",
    "\n",
    "#### Goal: <br>\n",
    "The goal of this notebook is to showcase proficiency and general knowledge of data analysis visualization tools, judgement metrics of model quality, and an understanding of which machine learning models best solve the business problem as well as conform to the format of the data.\n",
    "#### Data Description<br>\n",
    "The MNIST database contains 60,000 training images and 10,000 testing images each of which are grayscale 28 x 28 sized images.\n",
    "\n",
    "#### Keras\n",
    "The Keras library (containing TensorFlow backend) will be used extensively in this notebook. Keras follows best practices for reducing cognitive load: it offers consistent & simple APIs, it minimizes the number of user actions required for common use cases, and it provides clear and actionable feedback upon user error. This ease of use does not come at the cost of reduced flexibility<a href=\"https://keras.io/why-use-keras/\">[1]</a>"
   ]
  },
  {
   "cell_type": "markdown",
   "metadata": {},
   "source": [
    "## Contents\n",
    "1. [Imports](#imp)<br>\n",
    "    1.1 [Notebook Settup](#lib)<br>\n",
    "    1.2 [Keras Library Imports](#keras)<br>\n",
    "    1.3 [AWS Communication](#aws)<br>\n",
    "2. [Data Preparation](#dp)<br>\n",
    "    2.1 [Visualize Label Distribution](#lab)<br>\n",
    "    2.2 [Scan for Null/Missing Values](#nul)<br>\n",
    "    2.3 [Normalization](#norm)<br>\n",
    "    2.4 [Reshape](#reshape)<br>\n",
    "    2.5 [Label Encoding](#enc)<br>\n",
    "    2.6 [Splitting Training and Validation Set](#split)\n",
    "3. [CNN](#cnn)<br>\n",
    "    3.1 [Defining the Model](#model)<br>\n",
    "    3.2 [Compiling the Model](#compile)<br>\n",
    "    3.3 [Fitting the Model to the Data](#fit)<br>\n",
    "    3.4 [Basic Plotting and Evaluation of Model](#eval)<br>\n",
    "4. [Summary and Conclusion](#sum)<br>\n",
    "    4.1 [Classification Report](#report)<br>"
   ]
  },
  {
   "cell_type": "markdown",
   "metadata": {},
   "source": [
    "<a id=\"imp\"></a>\n",
    "## 1. Imports"
   ]
  },
  {
   "cell_type": "markdown",
   "metadata": {},
   "source": [
    "<a id=\"lib\"></a>\n",
    "### 1.1 Notebook Settup"
   ]
  },
  {
   "cell_type": "code",
   "execution_count": 1,
   "metadata": {},
   "outputs": [
    {
     "name": "stderr",
     "output_type": "stream",
     "text": [
      "Using TensorFlow backend.\n"
     ]
    },
    {
     "name": "stdout",
     "output_type": "stream",
     "text": [
      "WARNING:tensorflow:From /home/ec2-user/anaconda3/envs/tensorflow_p36/lib/python3.6/site-packages/tensorflow_core/__init__.py:1467: The name tf.estimator.inputs is deprecated. Please use tf.compat.v1.estimator.inputs instead.\n",
      "\n",
      "Python Version: 3.6.5 |Anaconda, Inc.| (default, Apr 29 2018, 16:14:56) \n",
      "[GCC 7.2.0]\n",
      "Pandas Version: 0.24.2\n"
     ]
    }
   ],
   "source": [
    "# default imports\n",
    "import sys\n",
    "import pandas as pd\n",
    "import numpy as np\n",
    "import seaborn as sns\n",
    "import matplotlib.pyplot as plt\n",
    "import matplotlib.image as mpimg\n",
    "%matplotlib inline \n",
    "\n",
    "from sklearn.model_selection import train_test_split\n",
    "from sklearn.metrics import confusion_matrix\n",
    "import itertools\n",
    "\n",
    "np.random.seed(2)\n",
    "\n",
    "sns.set(style='white', context='notebook', palette='deep')\n",
    "\n",
    "# Ouptut System Versions\n",
    "print(\"Python Version: \" + sys.version)\n",
    "print(\"Pandas Version: \" + pd.__version__)"
   ]
  },
  {
   "cell_type": "markdown",
   "metadata": {},
   "source": [
    "<a id=\"keras\"></a>\n",
    "### 1.2 Keras Imports"
   ]
  },
  {
   "cell_type": "code",
   "execution_count": null,
   "metadata": {},
   "outputs": [],
   "source": [
    "# TensorFlow base\n",
    "# Keras imports\n",
    "#import tensorflow as tf\n",
    "import keras\n",
    "from keras.utils.np_utils import to_categorical # convert to one-hot-encoding\n",
    "from keras.models import Sequential\n",
    "from keras.layers import Dense, Dropout, Flatten, Conv2D, MaxPool2D\n",
    "from keras.optimizers import RMSprop\n",
    "from keras.preprocessing.image import ImageDataGenerator\n",
    "from keras.callbacks import ReduceLROnPlateau"
   ]
  },
  {
   "cell_type": "markdown",
   "metadata": {},
   "source": [
    "<a id=\"aws\"></a>\n",
    "### 1.3 AWS Communication"
   ]
  },
  {
   "cell_type": "code",
   "execution_count": null,
   "metadata": {},
   "outputs": [],
   "source": [
    "# AWS IAM Role\n",
    "import boto3, re\n",
    "from sagemaker import get_execution_role\n",
    "\n",
    "role = get_execution_role()"
   ]
  },
  {
   "cell_type": "markdown",
   "metadata": {},
   "source": [
    "<a id=\"dp\"></a>\n",
    "## 2. Data Preparation"
   ]
  },
  {
   "cell_type": "markdown",
   "metadata": {},
   "source": [
    "<a id=\"lab\"></a>\n",
    "### 2.1 Visualize Label Distribution"
   ]
  },
  {
   "cell_type": "code",
   "execution_count": 2,
   "metadata": {},
   "outputs": [],
   "source": [
    "# Using .read_csv commands if dataset is local\n",
    "\n",
    "#mnist_train = pd.read_csv('mnist/mnist_train.csv')\n",
    "#mnist_test = pd.read_csv('mnist/mnist_test.csv')\n",
    "\n",
    "# Import dataset using Keras Library\n",
    "from keras.datasets.mnist import load_data"
   ]
  },
  {
   "cell_type": "code",
   "execution_count": 3,
   "metadata": {},
   "outputs": [
    {
     "data": {
      "text/plain": [
       "(array([0, 1, 2, 3, 4, 5, 6, 7, 8, 9], dtype=uint8),\n",
       " array([5923, 6742, 5958, 6131, 5842, 5421, 5918, 6265, 5851, 5949]))"
      ]
     },
     "execution_count": 3,
     "metadata": {},
     "output_type": "execute_result"
    },
    {
     "data": {
      "image/png": "[encoded data removed]",
      "text/plain": [
       "<Figure size 432x288 with 1 Axes>"
      ]
     },
     "metadata": {},
     "output_type": "display_data"
    }
   ],
   "source": [
    "#X_train, Y_train = mnist_train.iloc[:,1:], mnist_train['label']\n",
    "#X_test, Y_test = mnist_test.iloc[:, 1:], mnist_test['label']\n",
    "\n",
    "(X_train, Y_train),(X_test, Y_test) = load_data()\n",
    "\n",
    "g = sns.countplot(Y_train)\n",
    "\n",
    "np.unique(Y_train, return_counts=True)"
   ]
  },
  {
   "cell_type": "markdown",
   "metadata": {},
   "source": [
    "All labels (0-9) are accounted for in the above value count with \n",
    "no unexpected Null or -1 instances.\n",
    "\n",
    "The labels between 0 - 9 are also relatively evenly distributed so sampling issues and natural bias in the data may be dismissed"
   ]
  },
  {
   "cell_type": "code",
   "execution_count": 4,
   "metadata": {},
   "outputs": [
    {
     "name": "stdout",
     "output_type": "stream",
     "text": [
      "(60000, 28, 28)\n",
      "(60000,)\n",
      "(10000, 28, 28)\n",
      "(10000,)\n"
     ]
    }
   ],
   "source": [
    "# note dimension of data images\n",
    "# img_rows, img_cols = 28, 28\n",
    "\n",
    "print(X_train.shape)\n",
    "print(Y_train.shape)\n",
    "\n",
    "print(X_test.shape)\n",
    "print(Y_test.shape)"
   ]
  },
  {
   "cell_type": "markdown",
   "metadata": {},
   "source": [
    "<a id=\"null\"></a>\n",
    "### 2.2 Scan for Null/Missing Values"
   ]
  },
  {
   "cell_type": "code",
   "execution_count": 5,
   "metadata": {},
   "outputs": [],
   "source": [
    "#np.isnan(X_train)\n",
    "#np.isnan(X_test)"
   ]
  },
  {
   "cell_type": "code",
   "execution_count": 6,
   "metadata": {},
   "outputs": [],
   "source": [
    "# cmds if data was in Pandas.DataFrame format\n",
    "#X_test.isnull().any().describe()\n",
    "#X_test.isnull().any().descrive()"
   ]
  },
  {
   "cell_type": "markdown",
   "metadata": {},
   "source": [
    "<a id=\"norm\"></a>\n",
    "### 2.3 Normalization"
   ]
  },
  {
   "cell_type": "markdown",
   "metadata": {},
   "source": [
    "Perform a grayscale normalization: by default the image set is grayscale\n",
    "\n",
    "Convert the pixel lumination from a value between 0 and 255 to a decimal scale between 0 and 1"
   ]
  },
  {
   "cell_type": "code",
   "execution_count": 7,
   "metadata": {},
   "outputs": [],
   "source": [
    "#X_train = X_train / 255.0\n",
    "#X_test = X_test / 255.0\n",
    "\n",
    "X_train = X_train.astype('float32') / 255.\n",
    "X_test = X_test.astype('float32') / 255."
   ]
  },
  {
   "cell_type": "markdown",
   "metadata": {},
   "source": [
    "<a id=\"reshape\"></a>\n",
    "### 2.4 Reshape"
   ]
  },
  {
   "cell_type": "markdown",
   "metadata": {},
   "source": [
    "The data images are 28X28 pixels. These images are reshaped to 4D representation of the MNIST dataset."
   ]
  },
  {
   "cell_type": "code",
   "execution_count": 8,
   "metadata": {},
   "outputs": [],
   "source": [
    "# Reshape image in 4 dimensions (height = 28, width = 28, chanal = 1)\n",
    "\n",
    "# check image shape\n",
    "#X_train[0].shape\n",
    "\n",
    "img_rows = X_train.shape[1]\n",
    "img_cols = X_train.shape[2]\n",
    "num_channels = 1 #images are grayscale\n",
    "\n",
    "# reshape data to expected dimensionality of Keras\n",
    "#X_trainK = X_train.values.reshape(-1, img_rows, img_cols, 1)\n",
    "X_trainK = np.reshape(X_train,(X_train.shape[0],img_rows, img_cols, num_channels))\n",
    "#X_testK = X_test.values.reshape(-1, img_rows, img_cols, 1)\n",
    "X_testK = np.reshape(X_test,(X_test.shape[0],img_rows, img_cols, num_channels))"
   ]
  },
  {
   "cell_type": "markdown",
   "metadata": {},
   "source": [
    "</br>\n",
    "The above data will be fed into the Convolutional NN.\n",
    "This first layer\n",
    "Keras requires a 4 dimensional input to correspond to height, width and channel.</br>\n",
    "In the case of MNIST, the images are grayscale and require one channel."
   ]
  },
  {
   "cell_type": "code",
   "execution_count": 9,
   "metadata": {},
   "outputs": [
    {
     "name": "stdout",
     "output_type": "stream",
     "text": [
      "X_train info: \n",
      "Type:  <class 'numpy.ndarray'>\n",
      "Dimensions:  3\n",
      "Type var stored:  float32\n",
      "X_trainK shape at [1]:  (60000, 28, 28, 1)\n",
      "\n",
      "\n",
      "\n",
      "X_test info: \n",
      "Type:  <class 'numpy.ndarray'>\n",
      "Dimensions:  3\n",
      "Type var stored:  float32\n",
      "X_testK shape:  (10000, 28, 28, 1)\n"
     ]
    }
   ],
   "source": [
    "# X_train\n",
    "print(\"X_train info: \")\n",
    "print(\"Type: \", type(X_train))\n",
    "print(\"Dimensions: \", X_train.ndim)\n",
    "print(\"Type var stored: \", X_train.dtype)\n",
    "print(\"X_trainK shape: \", X_trainK.shape)\n",
    "print(\"X_trainK dim: \", X_trainK.ndim)\n",
    "print(\"\\n\")\n",
    "\n",
    "# X_test\n",
    "print(\"X_test info: \")\n",
    "print(\"Type: \", type(X_test))\n",
    "print(\"Dimensions: \", X_test.ndim)\n",
    "print(\"Type var stored: \", X_test.dtype)\n",
    "print(\"X_testK shape: \", X_testK.shape)\n",
    "print(\"X_testK shape: \", X_testK.ndim)"
   ]
  },
  {
   "cell_type": "markdown",
   "metadata": {},
   "source": [
    "<a id=\"enc\"></a>\n",
    "### 2.5 Label Encoding"
   ]
  },
  {
   "cell_type": "markdown",
   "metadata": {},
   "source": [
    "Labels are 10 single digits 0 - 9. </br>\n",
    "&#09;&nbsp;&bull; Convert each digit to a corresponding hot vector ex. 2 -> [0, 0, 1, 0, 0, 0, 0, 0, 0, 0]. This allows for identification due to the corresponding activation of one of the 10 output neurons.</br>\n",
    "&nbsp;&bull; Again this transforms the data from type pandas.DataFrame to a np.ndarray."
   ]
  },
  {
   "cell_type": "code",
   "execution_count": 10,
   "metadata": {},
   "outputs": [],
   "source": [
    "num_classes = 10\n",
    "Y_train = to_categorical(Y_train, num_classes)\n",
    "Y_test = to_categorical(Y_test, num_classes)"
   ]
  },
  {
   "cell_type": "code",
   "execution_count": 11,
   "metadata": {},
   "outputs": [
    {
     "name": "stdout",
     "output_type": "stream",
     "text": [
      "Y_train info: \n",
      "Type:  <class 'numpy.ndarray'>\n",
      "Dimensions:  2\n",
      "Type var stored:  float32\n",
      "Y_train shape:  (60000, 10)\n"
     ]
    }
   ],
   "source": [
    "# Y_train\n",
    "print(\"Y_train info: \")\n",
    "print(\"Type: \", type(Y_train))\n",
    "print(\"Dimensions: \", Y_train.ndim)\n",
    "print(\"Type var stored: \", Y_train.dtype)\n",
    "print(\"Y_train shape: \", Y_train.shape)"
   ]
  },
  {
   "cell_type": "markdown",
   "metadata": {},
   "source": [
    "<a id=\"split\"></a>\n",
    "### 2.6 Splitting Training and Validation Set"
   ]
  },
  {
   "cell_type": "markdown",
   "metadata": {},
   "source": [
    "&bull; 10% is partitioned to the evaluation set while the remaining 90% is used to train the model. </br>\n",
    "&bull; A random split of the training data is admissable as we have already established that the distribution of labels is consistent across the data set (see 2.1). This ensures no overrepresentation of certain labels in the X_train/Y_train and X_val/Y_val.</br>\n",
    "&bull; This is not always the case and for unbalanced datasets use stratify = True option in train_test_split function (Only for >=0.17 sklearn versions)."
   ]
  },
  {
   "cell_type": "code",
   "execution_count": 12,
   "metadata": {},
   "outputs": [],
   "source": [
    "# set random seed\n",
    "random_seed = 2"
   ]
  },
  {
   "cell_type": "code",
   "execution_count": 13,
   "metadata": {},
   "outputs": [],
   "source": [
    "# Split the train and validation sets for fitting the model\n",
    "X_trainData, X_val, Y_trainData, Y_val = train_test_split(X_trainK, Y_train, test_size = 0.1, random_state=random_seed)"
   ]
  },
  {
   "cell_type": "code",
   "execution_count": 14,
   "metadata": {},
   "outputs": [
    {
     "name": "stdout",
     "output_type": "stream",
     "text": [
      "X_trainData shape:  (54000, 28, 28, 1)\n",
      "Y_trainData shape:  (54000, 10)\n",
      "X_val shape:  (6000, 28, 28, 1)\n",
      "Y_val shape:  (6000, 10)\n"
     ]
    }
   ],
   "source": [
    "print(\"X_trainData shape: \", X_trainData.shape)\n",
    "print(\"Y_trainData shape: \", Y_trainData.shape)\n",
    "print(\"X_val shape: \", X_val.shape)\n",
    "print(\"Y_val shape: \", Y_val.shape)"
   ]
  },
  {
   "cell_type": "markdown",
   "metadata": {},
   "source": [
    "Print a sample element of the X_train dataset"
   ]
  },
  {
   "cell_type": "code",
   "execution_count": 15,
   "metadata": {},
   "outputs": [
    {
     "data": {
      "image/png": "[encoded data removed]",
      "text/plain": [
       "<Figure size 432x288 with 1 Axes>"
      ]
     },
     "metadata": {},
     "output_type": "display_data"
    }
   ],
   "source": [
    "plt.imshow(X_train[0],cmap='gray')\n",
    "plt.show()"
   ]
  },
  {
   "cell_type": "markdown",
   "metadata": {},
   "source": [
    "<a id=\"cnn\"></a>\n",
    "## 3. CNN"
   ]
  },
  {
   "cell_type": "markdown",
   "metadata": {},
   "source": [
    "<a id=\"model\"></a>\n",
    "### 3.1 Defining the Model"
   ]
  },
  {
   "cell_type": "markdown",
   "metadata": {},
   "source": [
    "The Keras data model type will be set to 'Sequential', in which the model is built one layer at a time.\n",
    "\n",
    "&nbsp; &bull; add() function will add layers to the model individually<br>\n",
    "&nbsp; &bull; The inputs of 32 & 64 refer to the number of nodes in specific layer\n",
    "\n",
    "\n",
    "Conv2D layers are convolutional layers that deal with the 2 dimensional matrix input (a.k.a. input images).<br> \n",
    "This is a learnable filter that is a transformation on the image defined by the kernel size\n",
    "\n",
    "&nbsp; &bull; Kernel size refers to the size of the filter matrix for the convolutional layer. Size=3 means a 3x3 conv matrix<br>\n",
    "&nbsp; &bull; Activation function is set to ReLU define by y=max(0,x), which lends to model sparsity and faster convergence.<br>\n",
    "&nbsp; &bull; MaxPool2D picks the max value of the neighboring pool<br>\n",
    "\n",
    "The Flatten layer converts the final feature maps into a single 1D vector.\n",
    "\n",
    "Dense refers to the fact that each neuron of a layer are connected to all the neurons of the layer previous.\n",
    "\n",
    "Dropout randomly selects nodes to be ignored(set w=0), promoting distributed learning, generalization and reducing overfitting.\n",
    "\n",
    "The output layer consists of 10 nodes, representing the classification options of 0-9<br>\n",
    "&nbsp; &bull; 'softmax' has the output layer sum to 1 allowing the output nodes to be interpreted as probabilities of their corresponding number."
   ]
  },
  {
   "cell_type": "code",
   "execution_count": 16,
   "metadata": {},
   "outputs": [],
   "source": [
    "import tensorflow as tf\n",
    "\n",
    "tf.compat.v1.logging.set_verbosity(tf.compat.v1.logging.ERROR)\n",
    "\n",
    "# Depreciation Warnings are important for developers\n",
    "# this is a temporary meausure and will be removed in future iterations"
   ]
  },
  {
   "cell_type": "code",
   "execution_count": 17,
   "metadata": {},
   "outputs": [],
   "source": [
    "# Create the CNN model\n",
    "\n",
    "# Architexture: Input -> [[Conv2D->ReLU]*2 -> MaxPool2D -> Dropout] * 2 -> \n",
    "#  Flatten -> Dense -> Dropout -> Output\n",
    "\n",
    "model = Sequential()\n",
    "\n",
    "model.add(Conv2D(filters = 32, kernel_size = (3,3),padding = 'Same', \n",
    "                 activation ='relu', input_shape = (img_rows,img_cols,num_channels)))\n",
    "model.add(Conv2D(filters = 32, kernel_size = (3,3),padding = 'Same', \n",
    "                 activation ='relu'))\n",
    "model.add(MaxPool2D(pool_size=(2,2)))\n",
    "model.add(Dropout(0.25))\n",
    "\n",
    "\n",
    "model.add(Conv2D(filters = 64, kernel_size = (3,3),padding = 'Same', \n",
    "                 activation ='relu'))\n",
    "model.add(Conv2D(filters = 64, kernel_size = (3,3),padding = 'Same', \n",
    "                 activation ='relu'))\n",
    "model.add(MaxPool2D(pool_size=(2,2), strides=(2,2)))\n",
    "model.add(Dropout(0.25))\n",
    "\n",
    "\n",
    "model.add(Flatten())\n",
    "model.add(Dense(256, activation = \"relu\"))\n",
    "model.add(Dropout(0.5))\n",
    "model.add(Dense(10, activation = \"softmax\"))"
   ]
  },
  {
   "cell_type": "markdown",
   "metadata": {},
   "source": [
    "<a id=\"compile\"></a>\n",
    "### 3.2 Compiling the Model"
   ]
  },
  {
   "cell_type": "markdown",
   "metadata": {},
   "source": [
    "Settup Metrics, Loss Function and Optimizer algorithm\n",
    "\n",
    "&nbsp;&bull;&nbsp;Metric: Accuracy<br>\n",
    "&nbsp;&bull;&nbsp;Loss Funtion: Cross Entropy<br>\n",
    "&nbsp;&bull;&nbsp;Optimization: Adam (Stochastic Optimization)"
   ]
  },
  {
   "cell_type": "code",
   "execution_count": 18,
   "metadata": {},
   "outputs": [],
   "source": [
    "model.compile(metrics=[\"accuracy\"],loss = 'categorical_crossentropy', optimizer = 'adam')"
   ]
  },
  {
   "cell_type": "code",
   "execution_count": 19,
   "metadata": {},
   "outputs": [
    {
     "name": "stdout",
     "output_type": "stream",
     "text": [
      "_________________________________________________________________\n",
      "Layer (type)                 Output Shape              Param #   \n",
      "=================================================================\n",
      "conv2d_1 (Conv2D)            (None, 28, 28, 32)        320       \n",
      "_________________________________________________________________\n",
      "conv2d_2 (Conv2D)            (None, 28, 28, 32)        9248      \n",
      "_________________________________________________________________\n",
      "max_pooling2d_1 (MaxPooling2 (None, 14, 14, 32)        0         \n",
      "_________________________________________________________________\n",
      "dropout_1 (Dropout)          (None, 14, 14, 32)        0         \n",
      "_________________________________________________________________\n",
      "conv2d_3 (Conv2D)            (None, 14, 14, 64)        18496     \n",
      "_________________________________________________________________\n",
      "conv2d_4 (Conv2D)            (None, 14, 14, 64)        36928     \n",
      "_________________________________________________________________\n",
      "max_pooling2d_2 (MaxPooling2 (None, 7, 7, 64)          0         \n",
      "_________________________________________________________________\n",
      "dropout_2 (Dropout)          (None, 7, 7, 64)          0         \n",
      "_________________________________________________________________\n",
      "flatten_1 (Flatten)          (None, 3136)              0         \n",
      "_________________________________________________________________\n",
      "dense_1 (Dense)              (None, 256)               803072    \n",
      "_________________________________________________________________\n",
      "dropout_3 (Dropout)          (None, 256)               0         \n",
      "_________________________________________________________________\n",
      "dense_2 (Dense)              (None, 10)                2570      \n",
      "=================================================================\n",
      "Total params: 870,634\n",
      "Trainable params: 870,634\n",
      "Non-trainable params: 0\n",
      "_________________________________________________________________\n"
     ]
    }
   ],
   "source": [
    "model.summary()"
   ]
  },
  {
   "cell_type": "markdown",
   "metadata": {},
   "source": [
    "<a id=\"fit\"></a>\n",
    "### 3.3 Fitting the Model to the data"
   ]
  },
  {
   "cell_type": "code",
   "execution_count": 20,
   "metadata": {},
   "outputs": [
    {
     "name": "stdout",
     "output_type": "stream",
     "text": [
      "Train on 54000 samples, validate on 6000 samples\n",
      "Epoch 1/10\n",
      "54000/54000 [==============================] - 95s 2ms/step - loss: 0.2374 - acc: 0.9258 - val_loss: 0.0541 - val_acc: 0.9835\n",
      "Epoch 2/10\n",
      "54000/54000 [==============================] - 91s 2ms/step - loss: 0.0882 - acc: 0.9743 - val_loss: 0.0417 - val_acc: 0.9873\n",
      "Epoch 3/10\n",
      "54000/54000 [==============================] - 93s 2ms/step - loss: 0.0661 - acc: 0.9802 - val_loss: 0.0396 - val_acc: 0.9878\n",
      "Epoch 4/10\n",
      "54000/54000 [==============================] - 91s 2ms/step - loss: 0.0567 - acc: 0.9830 - val_loss: 0.0309 - val_acc: 0.9915\n",
      "Epoch 5/10\n",
      "54000/54000 [==============================] - 93s 2ms/step - loss: 0.0492 - acc: 0.9855 - val_loss: 0.0299 - val_acc: 0.9927\n",
      "Epoch 6/10\n",
      "54000/54000 [==============================] - 241s 4ms/step - loss: 0.0412 - acc: 0.9873 - val_loss: 0.0290 - val_acc: 0.9920\n",
      "Epoch 7/10\n",
      "54000/54000 [==============================] - 312s 6ms/step - loss: 0.0351 - acc: 0.9899 - val_loss: 0.0266 - val_acc: 0.9918\n",
      "Epoch 8/10\n",
      "54000/54000 [==============================] - 348s 6ms/step - loss: 0.0329 - acc: 0.9902 - val_loss: 0.0280 - val_acc: 0.9933\n",
      "Epoch 9/10\n",
      "54000/54000 [==============================] - 345s 6ms/step - loss: 0.0343 - acc: 0.9901 - val_loss: 0.0246 - val_acc: 0.9918\n",
      "Epoch 10/10\n",
      "54000/54000 [==============================] - 350s 6ms/step - loss: 0.0278 - acc: 0.9917 - val_loss: 0.0269 - val_acc: 0.9937\n"
     ]
    }
   ],
   "source": [
    "hist = model.fit(X_trainData, Y_trainData,  \n",
    "          batch_size=64,\n",
    "          epochs=10,\n",
    "          validation_data=(X_val, Y_val))"
   ]
  },
  {
   "cell_type": "markdown",
   "metadata": {},
   "source": [
    "<a id=\"eval\"></a>\n",
    "### 3.4 Basic Plotting and Evalutation of Model"
   ]
  },
  {
   "cell_type": "code",
   "execution_count": 21,
   "metadata": {},
   "outputs": [
    {
     "name": "stdout",
     "output_type": "stream",
     "text": [
      "Test loss:  0.019033051148535377\n",
      "Test accuracy:  0.9942\n"
     ]
    }
   ],
   "source": [
    "score = model.evaluate(X_testK, Y_test, verbose=0)\n",
    "print(\"Test loss: \", score[0])\n",
    "print(\"Test accuracy: \", score[1])"
   ]
  },
  {
   "cell_type": "code",
   "execution_count": 22,
   "metadata": {},
   "outputs": [],
   "source": [
    "#bucket ='sagemaker-studio-thaaoml7ipn'\n",
    "\n",
    "#data_location = 's3://{}/{}'.format(bucket, data_key_test)\n",
    "\n",
    "#model.save('mnist_cnn.h5')"
   ]
  },
  {
   "cell_type": "code",
   "execution_count": 23,
   "metadata": {},
   "outputs": [],
   "source": [
    "# Create a confusion matrix\n",
    "\n",
    "# Below code block is from SKLearn website\n",
    "def plot_confusion_matrix(cm, classes,\n",
    "                          normalize=False,\n",
    "                          title='Confusion matrix',\n",
    "                          cmap=plt.cm.Blues):\n",
    "    \"\"\"\n",
    "    This function prints and plots the confusion matrix.\n",
    "    Normalization can be applied by setting `normalize=True`.\n",
    "    \"\"\"\n",
    "    plt.imshow(cm, interpolation='nearest', cmap=cmap)\n",
    "    plt.title(title)\n",
    "    plt.colorbar()\n",
    "    tick_marks = np.arange(len(classes))\n",
    "    plt.xticks(tick_marks, classes, rotation=45)\n",
    "    plt.yticks(tick_marks, classes)\n",
    "\n",
    "    if normalize:\n",
    "        cm = cm.astype('float') / cm.sum(axis=1)[:, np.newaxis]\n",
    "\n",
    "    thresh = cm.max() / 2.\n",
    "    for i, j in itertools.product(range(cm.shape[0]), range(cm.shape[1])):\n",
    "        plt.text(j, i, cm[i, j],\n",
    "                 horizontalalignment=\"center\",\n",
    "                 color=\"white\" if cm[i, j] > thresh else \"black\")\n",
    "\n",
    "    plt.tight_layout()\n",
    "    plt.ylabel('True label')\n",
    "    plt.xlabel('Predicted label')"
   ]
  },
  {
   "cell_type": "code",
   "execution_count": 24,
   "metadata": {},
   "outputs": [
    {
     "data": {
      "image/png": "[encoded data removed]",
      "text/plain": [
       "<Figure size 432x288 with 2 Axes>"
      ]
     },
     "metadata": {},
     "output_type": "display_data"
    }
   ],
   "source": [
    "# Predict the values from the validation dataset\n",
    "Y_pred = model.predict(X_val)\n",
    "# Convert predictions classes to one hot vectors \n",
    "Y_pred_classes = np.argmax(Y_pred, axis = 1) \n",
    "# Convert validation observations to one hot vectors\n",
    "Y_true = np.argmax(Y_val, axis = 1) \n",
    "# compute the confusion matrix\n",
    "confusion_mtx = confusion_matrix(Y_true, Y_pred_classes) \n",
    "# plot the confusion matrix\n",
    "plot_confusion_matrix(confusion_mtx, classes = range(10))"
   ]
  },
  {
   "cell_type": "markdown",
   "metadata": {},
   "source": [
    "Graph elbow curve"
   ]
  },
  {
   "cell_type": "code",
   "execution_count": 26,
   "metadata": {},
   "outputs": [
    {
     "data": {
      "image/png": "[encoded data removed]",
      "text/plain": [
       "<Figure size 432x288 with 1 Axes>"
      ]
     },
     "metadata": {},
     "output_type": "display_data"
    },
    {
     "data": {
      "image/png": "[encoded data removed]",
      "text/plain": [
       "<Figure size 432x288 with 1 Axes>"
      ]
     },
     "metadata": {},
     "output_type": "display_data"
    }
   ],
   "source": [
    "#print(hist.history.keys())\n",
    "accuracy = hist.history['acc']\n",
    "val_accuracy = hist.history['val_acc']\n",
    "loss = hist.history['loss']\n",
    "val_loss = hist.history['val_loss']\n",
    "epochs = range(len(accuracy))\n",
    "plt.plot(epochs, accuracy, 'bo', label='Training accuracy')\n",
    "plt.plot(epochs, val_accuracy, 'b', label='Validation accuracy')\n",
    "plt.title('Training and validation accuracy')\n",
    "plt.legend()\n",
    "plt.show()\n",
    "plt.figure()\n",
    "plt.plot(epochs, loss, 'bo', label='Training loss')\n",
    "plt.plot(epochs, val_loss, 'b', label='Validation loss')\n",
    "plt.title('Training and validation loss')\n",
    "plt.legend()\n",
    "plt.show()"
   ]
  },
  {
   "cell_type": "markdown",
   "metadata": {},
   "source": [
    "Next, identify the most common miscategorized images and visualize them. In"
   ]
  },
  {
   "cell_type": "code",
   "execution_count": 33,
   "metadata": {},
   "outputs": [
    {
     "data": {
      "image/png": "[encoded data removed]",
      "text/plain": [
       "<Figure size 432x288 with 6 Axes>"
      ]
     },
     "metadata": {},
     "output_type": "display_data"
    }
   ],
   "source": [
    "# Errors are difference between predicted labels and true labels\n",
    "errors = (Y_pred_classes - Y_true != 0)\n",
    "\n",
    "Y_pred_classes_errors = Y_pred_classes[errors]\n",
    "Y_pred_errors = Y_pred[errors]\n",
    "Y_true_errors = Y_true[errors]\n",
    "X_val_errors = X_val[errors]\n",
    "\n",
    "def display_errors(errors_index,img_errors,pred_errors, obs_errors):\n",
    "    \"\"\" This function shows 6 images with their predicted and real labels\"\"\"\n",
    "    n = 0\n",
    "    nrows = 2\n",
    "    ncols = 3\n",
    "    fig, ax = plt.subplots(nrows,ncols,sharex=True,sharey=True)\n",
    "    plt.subplots_adjust(top=1)\n",
    "    for row in range(nrows):\n",
    "        for col in range(ncols):\n",
    "            error = errors_index[n]\n",
    "            ax[row,col].imshow((img_errors[error]).reshape((28,28)), cmap=\"gray\")\n",
    "            ax[row,col].set_title(\"Predicted label :{}\\nTrue label :{}\".format(pred_errors[error],obs_errors[error]))\n",
    "            n += 1\n",
    "            \n",
    "# Probabilities of the wrong predicted numbers\n",
    "Y_pred_errors_prob = np.max(Y_pred_errors,axis = 1)\n",
    "\n",
    "# Predicted probabilities of the true values in the error set\n",
    "true_prob_errors = np.diagonal(np.take(Y_pred_errors, Y_true_errors, axis=1))\n",
    "\n",
    "# Difference between the probability of the predicted label and the true label\n",
    "delta_pred_true_errors = Y_pred_errors_prob - true_prob_errors\n",
    "\n",
    "# Sorted list of the delta prob errors\n",
    "sorted_dela_errors = np.argsort(delta_pred_true_errors)\n",
    "\n",
    "# Top 6 errors \n",
    "most_important_errors = sorted_dela_errors[-6:]\n",
    "\n",
    "# Show the top 6 errors\n",
    "display_errors(most_important_errors, X_val_errors, Y_pred_classes_errors, Y_true_errors)"
   ]
  },
  {
   "cell_type": "markdown",
   "metadata": {},
   "source": [
    "<a id=\"sum\"></a>\n",
    "## 4. Summary and Conclusion"
   ]
  },
  {
   "cell_type": "markdown",
   "metadata": {},
   "source": [
    "<a id=\"report\"></a>\n",
    "### 4.1 Classification Report"
   ]
  },
  {
   "cell_type": "code",
   "execution_count": 34,
   "metadata": {},
   "outputs": [],
   "source": [
    "# Predict the values from the validation dataset\n",
    "Y_pred = model.predict(X_val)\n",
    "# Convert predictions classes to one hot vectors \n",
    "Y_pred_classes = np.argmax(Y_pred, axis = 1)\n",
    "Y_true_classes = np.argmax(Y_val, axis = 1)"
   ]
  },
  {
   "cell_type": "code",
   "execution_count": 35,
   "metadata": {},
   "outputs": [
    {
     "data": {
      "text/plain": [
       "(array([2, 1, 5, 0, 6]), array([2, 1, 5, 0, 6]))"
      ]
     },
     "execution_count": 35,
     "metadata": {},
     "output_type": "execute_result"
    }
   ],
   "source": [
    "Y_pred_classes[:5], Y_true_classes[:5]"
   ]
  },
  {
   "cell_type": "code",
   "execution_count": 36,
   "metadata": {},
   "outputs": [
    {
     "name": "stdout",
     "output_type": "stream",
     "text": [
      "              precision    recall  f1-score   support\n",
      "\n",
      "     Class 0       1.00      1.00      1.00       613\n",
      "     Class 1       0.99      1.00      1.00       691\n",
      "     Class 2       1.00      1.00      1.00       569\n",
      "     Class 3       1.00      0.99      1.00       611\n",
      "     Class 4       0.99      0.99      0.99       600\n",
      "     Class 5       0.99      0.99      0.99       562\n",
      "     Class 6       0.99      0.99      0.99       585\n",
      "     Class 7       1.00      1.00      1.00       610\n",
      "     Class 8       0.99      0.99      0.99       590\n",
      "     Class 9       0.98      0.99      0.99       569\n",
      "\n",
      "    accuracy                           0.99      6000\n",
      "   macro avg       0.99      0.99      0.99      6000\n",
      "weighted avg       0.99      0.99      0.99      6000\n",
      "\n"
     ]
    }
   ],
   "source": [
    "from sklearn.metrics import classification_report\n",
    "target_names = [\"Class {}\".format(i) for i in range(num_classes)]\n",
    "print(classification_report(Y_true_classes, Y_pred_classes, target_names=target_names))"
   ]
  },
  {
   "cell_type": "code",
   "execution_count": 38,
   "metadata": {},
   "outputs": [],
   "source": [
    "predicted_classes = model.predict_classes(X_testK)\n",
    "submissions=pd.DataFrame({\"ImageId\": list(range(1,len(predicted_classes)+1)),\n",
    "                         \"Label\": predicted_classes})\n",
    "submissions.to_csv(\"asd.csv\", index=False, header=True)"
   ]
  },
  {
   "cell_type": "code",
   "execution_count": 39,
   "metadata": {},
   "outputs": [],
   "source": [
    "model.save('mnist_cnn_1.h5')\n",
    "json_string = model.to_json()"
   ]
  }
 ],
 "metadata": {
  "kernelspec": {
   "display_name": "conda_tensorflow_p36",
   "language": "python",
   "name": "conda_tensorflow_p36"
  },
  "language_info": {
   "codemirror_mode": {
    "name": "ipython",
    "version": 3
   },
   "file_extension": ".py",
   "mimetype": "text/x-python",
   "name": "python",
   "nbconvert_exporter": "python",
   "pygments_lexer": "ipython3",
   "version": "3.6.5"
  },
  "toc-autonumbering": false,
  "toc-showcode": false,
  "toc-showtags": false
 },
 "nbformat": 4,
 "nbformat_minor": 4
}
